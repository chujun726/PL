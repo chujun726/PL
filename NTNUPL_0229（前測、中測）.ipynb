{
 "cells": [
  {
   "cell_type": "code",
   "execution_count": 1,
   "id": "b84e1412-933b-4371-9d32-1d63f6b51456",
   "metadata": {
    "tags": []
   },
   "outputs": [
    {
     "name": "stdout",
     "output_type": "stream",
     "text": [
      "<class 'pandas.core.frame.DataFrame'>\n",
      "       Age          Workclass  Income    Education  Education-Num  \\\n",
      "0       39          State-gov   77516    Bachelors             13   \n",
      "1       50   Self-emp-not-inc   83311    Bachelors             13   \n",
      "2       38            Private  215646      HS-grad              9   \n",
      "3       53            Private  234721         11th              7   \n",
      "4       28            Private  338409    Bachelors             13   \n",
      "...    ...                ...     ...          ...            ...   \n",
      "32556   27            Private  257302   Assoc-acdm             12   \n",
      "32557   40            Private  154374      HS-grad              9   \n",
      "32558   58            Private  151910      HS-grad              9   \n",
      "32559   22            Private  201490      HS-grad              9   \n",
      "32560   52       Self-emp-inc  287927      HS-grad              9   \n",
      "\n",
      "            Marital Status          Occupation    Relationship    Race  \\\n",
      "0            Never-married        Adm-clerical   Not-in-family   White   \n",
      "1       Married-civ-spouse     Exec-managerial         Husband   White   \n",
      "2                 Divorced   Handlers-cleaners   Not-in-family   White   \n",
      "3       Married-civ-spouse   Handlers-cleaners         Husband   Black   \n",
      "4       Married-civ-spouse      Prof-specialty            Wife   Black   \n",
      "...                    ...                 ...             ...     ...   \n",
      "32556   Married-civ-spouse        Tech-support            Wife   White   \n",
      "32557   Married-civ-spouse   Machine-op-inspct         Husband   White   \n",
      "32558              Widowed        Adm-clerical       Unmarried   White   \n",
      "32559        Never-married        Adm-clerical       Own-child   White   \n",
      "32560   Married-civ-spouse     Exec-managerial            Wife   White   \n",
      "\n",
      "           Sex  Capital Gain  Capital Loss  Hours per Week  Native Country  \n",
      "0         Male          2174             0              40   United-States  \n",
      "1         Male             0             0              13   United-States  \n",
      "2         Male             0             0              40   United-States  \n",
      "3         Male             0             0              40   United-States  \n",
      "4       Female             0             0              40            Cuba  \n",
      "...        ...           ...           ...             ...             ...  \n",
      "32556   Female             0             0              38   United-States  \n",
      "32557     Male             0             0              40   United-States  \n",
      "32558   Female             0             0              40   United-States  \n",
      "32559     Male             0             0              20   United-States  \n",
      "32560   Female         15024             0              40   United-States  \n",
      "\n",
      "[32561 rows x 14 columns]\n"
     ]
    }
   ],
   "source": [
    "import pandas as pd\n",
    "df = pd.read_csv ('adult.csv')\n",
    "print(type(df))\n",
    "print(df)"
   ]
  },
  {
   "cell_type": "code",
   "execution_count": 2,
   "id": "b85d69dd-0e76-477a-8de7-c0ea526cf07a",
   "metadata": {},
   "outputs": [
    {
     "name": "stdout",
     "output_type": "stream",
     "text": [
      "平均值： 189778.36651208502\n",
      "標準差： 105548.3568808909\n",
      "中位數： 178356.0\n"
     ]
    },
    {
     "data": {
      "text/plain": [
       "Text(0.5, 1.0, 'Salary Distribution')"
      ]
     },
     "execution_count": 2,
     "metadata": {},
     "output_type": "execute_result"
    },
    {
     "data": {
      "image/png": "[encoded data removed]",
      "text/plain": [
       "<Figure size 640x480 with 1 Axes>"
      ]
     },
     "metadata": {},
     "output_type": "display_data"
    }
   ],
   "source": [
    "import pandas as pd\n",
    "import numpy as np\n",
    "import matplotlib.pyplot as plt\n",
    "\n",
    "# 读取adult.csv文件并将其存储为DataFrame\n",
    "df = pd.read_csv('adult.csv')\n",
    "\n",
    "# 选择薪资列\n",
    "salary = df['Income']\n",
    "\n",
    "# 使用numpy计算薪资的平均值、标准差和中位数\n",
    "mean_salary = np.mean(salary)\n",
    "std_salary = np.std(salary)\n",
    "median_salary = np.median(salary)\n",
    "\n",
    "# 输出结果\n",
    "print('平均值：', mean_salary)\n",
    "print('標準差：', std_salary)\n",
    "print('中位數：', median_salary)\n",
    "\n",
    "# 繪製histogram\n",
    "plt.hist(salary)\n",
    "plt.xlabel('Salary')\n",
    "plt.ylabel('Frequency')\n",
    "plt.title('Salary Distribution')"
   ]
  },
  {
   "cell_type": "code",
   "execution_count": null,
   "id": "981bb0a6-44cd-48cd-80a8-65c7ee560137",
   "metadata": {},
   "outputs": [],
   "source": []
  }
 ],
 "metadata": {
  "kernelspec": {
   "display_name": "Python 3 (ipykernel)",
   "language": "python",
   "name": "python3"
  },
  "language_info": {
   "codemirror_mode": {
    "name": "ipython",
    "version": 3
   },
   "file_extension": ".py",
   "mimetype": "text/x-python",
   "name": "python",
   "nbconvert_exporter": "python",
   "pygments_lexer": "ipython3",
   "version": "3.11.5"
  }
 },
 "nbformat": 4,
 "nbformat_minor": 5
}
